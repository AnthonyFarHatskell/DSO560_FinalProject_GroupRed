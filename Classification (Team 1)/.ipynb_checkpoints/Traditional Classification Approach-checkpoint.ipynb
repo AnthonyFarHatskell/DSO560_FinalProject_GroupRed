{
 "cells": [
  {
   "cell_type": "code",
   "execution_count": 2,
   "metadata": {
    "ExecuteTime": {
     "end_time": "2021-12-14T00:05:01.244244Z",
     "start_time": "2021-12-14T00:05:01.053541Z"
    }
   },
   "outputs": [],
   "source": [
    "import pandas as pd"
   ]
  },
  {
   "cell_type": "code",
   "execution_count": 3,
   "metadata": {
    "ExecuteTime": {
     "end_time": "2021-12-14T00:05:01.645345Z",
     "start_time": "2021-12-14T00:05:01.394494Z"
    }
   },
   "outputs": [
    {
     "data": {
      "text/html": [
       "<div>\n",
       "<style scoped>\n",
       "    .dataframe tbody tr th:only-of-type {\n",
       "        vertical-align: middle;\n",
       "    }\n",
       "\n",
       "    .dataframe tbody tr th {\n",
       "        vertical-align: top;\n",
       "    }\n",
       "\n",
       "    .dataframe thead th {\n",
       "        text-align: right;\n",
       "    }\n",
       "</style>\n",
       "<table border=\"1\" class=\"dataframe\">\n",
       "  <thead>\n",
       "    <tr style=\"text-align: right;\">\n",
       "      <th></th>\n",
       "      <th>review</th>\n",
       "      <th>rating</th>\n",
       "      <th>music_app</th>\n",
       "    </tr>\n",
       "  </thead>\n",
       "  <tbody>\n",
       "    <tr>\n",
       "      <th>0</th>\n",
       "      <td>This is by far the best music app I have ever ...</td>\n",
       "      <td>5</td>\n",
       "      <td>Amazon</td>\n",
       "    </tr>\n",
       "    <tr>\n",
       "      <th>1</th>\n",
       "      <td>I really like this app but I have tried an tri...</td>\n",
       "      <td>4</td>\n",
       "      <td>Amazon</td>\n",
       "    </tr>\n",
       "    <tr>\n",
       "      <th>2</th>\n",
       "      <td>This app is great, i've been using it for a co...</td>\n",
       "      <td>4</td>\n",
       "      <td>Amazon</td>\n",
       "    </tr>\n",
       "    <tr>\n",
       "      <th>3</th>\n",
       "      <td>Not a bad music app. Selection is good could b...</td>\n",
       "      <td>3</td>\n",
       "      <td>Amazon</td>\n",
       "    </tr>\n",
       "    <tr>\n",
       "      <th>4</th>\n",
       "      <td>This is one of the most used app on my phone, ...</td>\n",
       "      <td>2</td>\n",
       "      <td>Amazon</td>\n",
       "    </tr>\n",
       "  </tbody>\n",
       "</table>\n",
       "</div>"
      ],
      "text/plain": [
       "                                              review  rating music_app\n",
       "0  This is by far the best music app I have ever ...       5    Amazon\n",
       "1  I really like this app but I have tried an tri...       4    Amazon\n",
       "2  This app is great, i've been using it for a co...       4    Amazon\n",
       "3  Not a bad music app. Selection is good could b...       3    Amazon\n",
       "4  This is one of the most used app on my phone, ...       2    Amazon"
      ]
     },
     "execution_count": 3,
     "metadata": {},
     "output_type": "execute_result"
    }
   ],
   "source": [
    "# App store data\n",
    "app_amazon_data = pd.read_csv(\"../Data/App-Store-Reviews-amazon-music-songs-podcasts.csv\", usecols = [\"review\", \"rating\"])\n",
    "app_amazon_data[\"music_app\"] = \"Amazon\"\n",
    "\n",
    "app_apple_data = pd.read_csv(\"../Data/App-Store-Reviews-apple-music.csv\", usecols = [\"review\", \"rating\"])\n",
    "app_apple_data[\"music_app\"] = \"Apple\"\n",
    "\n",
    "app_spotify_data = pd.read_csv(\"../Data/App-Store-Reviews-spotify-new-music-and-podcasts.csv\", usecols = [\"review\", \"rating\"])\n",
    "app_spotify_data[\"music_app\"] = \"Spotify\"\n",
    "\n",
    "# Google Play data\n",
    "goog_amazon_data = pd.read_csv(\"../Data/Google-Play-Reviews-Amazon Music.csv\", usecols = [\"content\", \"score\"])\n",
    "goog_amazon_data[\"music_app\"] = \"Amazon\"\n",
    "goog_amazon_data.columns = ['review', 'rating', 'music_app']\n",
    "\n",
    "goog_apple_data = pd.read_csv(\"../Data/Google-Play-Reviews-Apple Music.csv\", usecols = [\"content\", \"score\"])\n",
    "goog_apple_data[\"music_app\"] = \"Apple\"\n",
    "goog_apple_data.columns = ['review', 'rating', 'music_app']\n",
    "\n",
    "goog_spotify_data = pd.read_csv(\"../Data/Google-Play-Reviews-Spotify.csv\", usecols = [\"content\", \"score\"])\n",
    "goog_spotify_data[\"music_app\"] = \"Spotify\"\n",
    "goog_spotify_data.columns = ['review', 'rating', 'music_app']\n",
    "\n",
    "# add dataframes together\n",
    "master_data = pd.concat([app_amazon_data, app_apple_data, app_spotify_data,\\\n",
    "                         goog_amazon_data, goog_apple_data, goog_spotify_data]).reset_index(drop = True)\n",
    "\n",
    "master_data.head()"
   ]
  },
  {
   "cell_type": "code",
   "execution_count": 4,
   "metadata": {
    "ExecuteTime": {
     "end_time": "2021-12-14T00:05:23.976775Z",
     "start_time": "2021-12-14T00:05:23.565833Z"
    }
   },
   "outputs": [],
   "source": []
  },
  {
   "cell_type": "code",
   "execution_count": null,
   "metadata": {},
   "outputs": [],
   "source": []
  }
 ],
 "metadata": {
  "kernelspec": {
   "display_name": "Python 3",
   "language": "python",
   "name": "python3"
  },
  "language_info": {
   "codemirror_mode": {
    "name": "ipython",
    "version": 3
   },
   "file_extension": ".py",
   "mimetype": "text/x-python",
   "name": "python",
   "nbconvert_exporter": "python",
   "pygments_lexer": "ipython3",
   "version": "3.8.3"
  },
  "varInspector": {
   "cols": {
    "lenName": 16,
    "lenType": 16,
    "lenVar": 40
   },
   "kernels_config": {
    "python": {
     "delete_cmd_postfix": "",
     "delete_cmd_prefix": "del ",
     "library": "var_list.py",
     "varRefreshCmd": "print(var_dic_list())"
    },
    "r": {
     "delete_cmd_postfix": ") ",
     "delete_cmd_prefix": "rm(",
     "library": "var_list.r",
     "varRefreshCmd": "cat(var_dic_list()) "
    }
   },
   "types_to_exclude": [
    "module",
    "function",
    "builtin_function_or_method",
    "instance",
    "_Feature"
   ],
   "window_display": false
  }
 },
 "nbformat": 4,
 "nbformat_minor": 4
}
